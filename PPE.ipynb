{
  "nbformat": 4,
  "nbformat_minor": 0,
  "metadata": {
    "colab": {
      "name": "PPE.ipynb",
      "provenance": [],
      "authorship_tag": "ABX9TyNWVGSh8QZoQuFKjfaMsCTG",
      "include_colab_link": true
    },
    "kernelspec": {
      "name": "python3",
      "display_name": "Python 3"
    },
    "language_info": {
      "name": "python"
    }
  },
  "cells": [
    {
      "cell_type": "markdown",
      "metadata": {
        "id": "view-in-github",
        "colab_type": "text"
      },
      "source": [
        "<a href=\"https://colab.research.google.com/github/LiliBISC/PPE/blob/main/PPE.ipynb\" target=\"_parent\"><img src=\"https://colab.research.google.com/assets/colab-badge.svg\" alt=\"Open In Colab\"/></a>"
      ]
    },
    {
      "cell_type": "markdown",
      "source": [
        "Code pour importer la base de donnée de :https://www.data.gouv.fr/fr/datasets/donnees-openstreetmap-integrales-de-france-metropolitaine/"
      ],
      "metadata": {
        "id": "HMXGW6wnBZvN"
      }
    },
    {
      "cell_type": "code",
      "execution_count": null,
      "metadata": {
        "id": "Oh5zMuXYBYH8"
      },
      "outputs": [],
      "source": [
        "# Tous les examples Python sont executés avec cette convention\n",
        "\n"
      ]
    }
  ]
}